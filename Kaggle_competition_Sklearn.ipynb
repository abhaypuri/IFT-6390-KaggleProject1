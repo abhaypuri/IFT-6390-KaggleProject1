{
  "nbformat": 4,
  "nbformat_minor": 0,
  "metadata": {
    "colab": {
      "name": "Kaggle_competition_Sklearn.ipynb",
      "provenance": [],
      "collapsed_sections": []
    },
    "kernelspec": {
      "name": "python3",
      "display_name": "Python 3"
    },
    "language_info": {
      "name": "python"
    }
  },
  "cells": [
    {
      "cell_type": "code",
      "metadata": {
        "colab": {
          "resources": {
            "http://localhost:8080/nbextensions/google.colab/files.js": {
              "data": "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",
              "ok": true,
              "headers": [
                [
                  "content-type",
                  "application/javascript"
                ]
              ],
              "status": 200,
              "status_text": ""
            }
          },
          "base_uri": "https://localhost:8080/",
          "height": 107
        },
        "id": "ryBVIedQtHzQ",
        "outputId": "1bf62d1f-2b15-4183-b012-dabcb3f1d1b2"
      },
      "source": [
        "from google.colab import files\n",
        "files=files.upload()"
      ],
      "execution_count": 1,
      "outputs": [
        {
          "output_type": "display_data",
          "data": {
            "text/html": [
              "\n",
              "     <input type=\"file\" id=\"files-68adb975-e1d0-48d1-a45f-cf6884273569\" name=\"files[]\" multiple disabled\n",
              "        style=\"border:none\" />\n",
              "     <output id=\"result-68adb975-e1d0-48d1-a45f-cf6884273569\">\n",
              "      Upload widget is only available when the cell has been executed in the\n",
              "      current browser session. Please rerun this cell to enable.\n",
              "      </output>\n",
              "      <script src=\"/nbextensions/google.colab/files.js\"></script> "
            ],
            "text/plain": [
              "<IPython.core.display.HTML object>"
            ]
          },
          "metadata": {}
        },
        {
          "output_type": "stream",
          "name": "stdout",
          "text": [
            "Saving test.csv to test.csv\n",
            "Saving train.csv to train.csv\n"
          ]
        }
      ]
    },
    {
      "cell_type": "code",
      "metadata": {
        "id": "ZlrIdKY6tYJV"
      },
      "source": [
        "#importing libraries \n",
        "\n",
        "import pandas as pd\n",
        "import matplotlib.pyplot as plt\n",
        "import seaborn as sns\n",
        "\n",
        "from sklearn.model_selection import train_test_split\n",
        "from sklearn.ensemble import RandomForestClassifier\n",
        "from sklearn.metrics import f1_score,confusion_matrix\n",
        "from sklearn.metrics import accuracy_score,classification_report,roc_auc_score\n",
        "from sklearn.neighbors import KNeighborsClassifier\n",
        "from sklearn.linear_model import LogisticRegression\n",
        "\n",
        "from sklearn.feature_selection import SelectKBest\n",
        "from sklearn.feature_selection import chi2\n",
        "from sklearn.feature_selection import f_classif"
      ],
      "execution_count": 2,
      "outputs": []
    },
    {
      "cell_type": "code",
      "metadata": {
        "id": "RYuooR6Ii7Ox"
      },
      "source": [
        "train_df = pd.read_csv('/content/train.csv', index_col=\"S.No\")\n",
        "test_df = pd.read_csv('/content/test.csv', index_col=\"S.No\")"
      ],
      "execution_count": 3,
      "outputs": []
    },
    {
      "cell_type": "code",
      "metadata": {
        "colab": {
          "base_uri": "https://localhost:8080/"
        },
        "id": "WHt4vusEtlSq",
        "outputId": "37e58d0a-d293-4d04-e365-815d24a54631"
      },
      "source": [
        "print(train_df)\n",
        "print(test_df)"
      ],
      "execution_count": 4,
      "outputs": [
        {
          "output_type": "stream",
          "name": "stdout",
          "text": [
            "             lat       lon        TMQ  ...       ZBOT      time  LABELS\n",
            "S.No                                   ...                             \n",
            "0     -24.758801  242.1875  16.019615  ...  64.372635  20030804       0\n",
            "1      23.820078  277.8125  47.802036  ...  66.834389  20071006       1\n",
            "2      23.820078  276.8750  11.556691  ...  64.209663  20020331       0\n",
            "3      13.494133  253.1250  53.186630  ...  66.243294  20000906       0\n",
            "4     -24.524120  241.2500  23.353998  ...  64.876427  20000906       0\n",
            "...          ...       ...        ...  ...        ...       ...     ...\n",
            "47755 -30.625815  353.4375  14.680613  ...  63.678669  20001106       2\n",
            "47756 -24.993481  242.1875  29.540585  ...  65.238327  20010712       2\n",
            "47757 -30.625815  353.4375  20.991110  ...  63.929737  20011029       0\n",
            "47758  23.585398  276.5625  45.689816  ...  66.656548  20020712       0\n",
            "47759  24.054759  276.8750  49.550251  ...  66.221062  20081012       0\n",
            "\n",
            "[47760 rows x 20 columns]\n",
            "            lat       lon        TMQ  ...         Z200       ZBOT      time\n",
            "S.No                                  ...                                  \n",
            "0    -31.095176  353.1250  22.372244  ...  12023.84082  63.400764  20130927\n",
            "1    -31.095176  353.4375  21.536032  ...  12023.83301  63.348942  20130927\n",
            "2    -31.095176  353.7500  20.465317  ...  12025.41113  63.281322  20130927\n",
            "3    -31.095176  354.0625  19.967148  ...  12026.61426  63.216827  20130927\n",
            "4    -31.095176  354.3750  19.598663  ...  12027.29004  63.200485  20130927\n",
            "...         ...       ...        ...  ...          ...        ...       ...\n",
            "7315  24.054759  276.5625  51.415295  ...  12467.79492  66.832077  20130916\n",
            "7316  24.054759  276.8750  52.377407  ...  12466.41309  66.827492  20130916\n",
            "7317  24.054759  277.1875  54.639217  ...  12467.56934  66.812981  20130916\n",
            "7318  24.054759  277.5000  56.121231  ...  12468.06934  66.808273  20130916\n",
            "7319  24.054759  277.8125  56.888420  ...  12468.50098  66.808151  20130916\n",
            "\n",
            "[7320 rows x 19 columns]\n"
          ]
        }
      ]
    },
    {
      "cell_type": "code",
      "metadata": {
        "colab": {
          "base_uri": "https://localhost:8080/"
        },
        "id": "kEFOQwDwtpPt",
        "outputId": "fabd0fa9-e21d-4fb8-9b6e-f4236fbc75d5"
      },
      "source": [
        "print(train_df.shape)\n",
        "print(test_df.shape)"
      ],
      "execution_count": 5,
      "outputs": [
        {
          "output_type": "stream",
          "name": "stdout",
          "text": [
            "(47760, 20)\n",
            "(7320, 19)\n"
          ]
        }
      ]
    },
    {
      "cell_type": "code",
      "metadata": {
        "colab": {
          "base_uri": "https://localhost:8080/"
        },
        "id": "AUPOFFqettQo",
        "outputId": "2bd83646-2b5a-4b7b-9e6d-b32e449f4f6f"
      },
      "source": [
        "print(train_df.columns)\n",
        "print(test_df.columns)"
      ],
      "execution_count": 6,
      "outputs": [
        {
          "output_type": "stream",
          "name": "stdout",
          "text": [
            "Index(['lat', 'lon', 'TMQ', 'U850', 'V850', 'UBOT', 'VBOT', 'QREFHT', 'PS',\n",
            "       'PSL', 'T200', 'T500', 'PRECT', 'TS', 'TREFHT', 'Z1000', 'Z200', 'ZBOT',\n",
            "       'time', 'LABELS'],\n",
            "      dtype='object')\n",
            "Index(['lat', 'lon', 'TMQ', 'U850', 'V850', 'UBOT', 'VBOT', 'QREFHT', 'PS',\n",
            "       'PSL', 'T200', 'T500', 'PRECT', 'TS', 'TREFHT', 'Z1000', 'Z200', 'ZBOT',\n",
            "       'time'],\n",
            "      dtype='object')\n"
          ]
        }
      ]
    },
    {
      "cell_type": "code",
      "metadata": {
        "colab": {
          "base_uri": "https://localhost:8080/",
          "height": 662
        },
        "id": "FHLNyZ-ytyra",
        "outputId": "f3917fa7-ad1c-4271-c32f-404a4e6f470a"
      },
      "source": [
        "train_df.describe().T"
      ],
      "execution_count": 7,
      "outputs": [
        {
          "output_type": "execute_result",
          "data": {
            "text/html": [
              "<div>\n",
              "<style scoped>\n",
              "    .dataframe tbody tr th:only-of-type {\n",
              "        vertical-align: middle;\n",
              "    }\n",
              "\n",
              "    .dataframe tbody tr th {\n",
              "        vertical-align: top;\n",
              "    }\n",
              "\n",
              "    .dataframe thead th {\n",
              "        text-align: right;\n",
              "    }\n",
              "</style>\n",
              "<table border=\"1\" class=\"dataframe\">\n",
              "  <thead>\n",
              "    <tr style=\"text-align: right;\">\n",
              "      <th></th>\n",
              "      <th>count</th>\n",
              "      <th>mean</th>\n",
              "      <th>std</th>\n",
              "      <th>min</th>\n",
              "      <th>25%</th>\n",
              "      <th>50%</th>\n",
              "      <th>75%</th>\n",
              "      <th>max</th>\n",
              "    </tr>\n",
              "  </thead>\n",
              "  <tbody>\n",
              "    <tr>\n",
              "      <th>lat</th>\n",
              "      <td>47760.0</td>\n",
              "      <td>-2.933507e+00</td>\n",
              "      <td>2.290675e+01</td>\n",
              "      <td>-3.109518e+01</td>\n",
              "      <td>-2.458279e+01</td>\n",
              "      <td>-3.872229e+00</td>\n",
              "      <td>2.176662e+01</td>\n",
              "      <td>2.405476e+01</td>\n",
              "    </tr>\n",
              "    <tr>\n",
              "      <th>lon</th>\n",
              "      <td>47760.0</td>\n",
              "      <td>2.692708e+02</td>\n",
              "      <td>4.104659e+01</td>\n",
              "      <td>2.290625e+02</td>\n",
              "      <td>2.418750e+02</td>\n",
              "      <td>2.531250e+02</td>\n",
              "      <td>2.771875e+02</td>\n",
              "      <td>3.543750e+02</td>\n",
              "    </tr>\n",
              "    <tr>\n",
              "      <th>TMQ</th>\n",
              "      <td>47760.0</td>\n",
              "      <td>3.483568e+01</td>\n",
              "      <td>1.286955e+01</td>\n",
              "      <td>6.960679e+00</td>\n",
              "      <td>2.403308e+01</td>\n",
              "      <td>3.489657e+01</td>\n",
              "      <td>4.472710e+01</td>\n",
              "      <td>8.064136e+01</td>\n",
              "    </tr>\n",
              "    <tr>\n",
              "      <th>U850</th>\n",
              "      <td>47760.0</td>\n",
              "      <td>-6.202928e-01</td>\n",
              "      <td>6.847307e+00</td>\n",
              "      <td>-5.880523e+01</td>\n",
              "      <td>-5.507042e+00</td>\n",
              "      <td>-1.671802e+00</td>\n",
              "      <td>3.621788e+00</td>\n",
              "      <td>3.227734e+01</td>\n",
              "    </tr>\n",
              "    <tr>\n",
              "      <th>V850</th>\n",
              "      <td>47760.0</td>\n",
              "      <td>1.040469e-02</td>\n",
              "      <td>4.332385e+00</td>\n",
              "      <td>-2.621691e+01</td>\n",
              "      <td>-2.307535e+00</td>\n",
              "      <td>1.571722e-01</td>\n",
              "      <td>2.341779e+00</td>\n",
              "      <td>5.806025e+01</td>\n",
              "    </tr>\n",
              "    <tr>\n",
              "      <th>UBOT</th>\n",
              "      <td>47760.0</td>\n",
              "      <td>-2.152124e+00</td>\n",
              "      <td>6.043284e+00</td>\n",
              "      <td>-5.826048e+01</td>\n",
              "      <td>-6.589128e+00</td>\n",
              "      <td>-2.687853e+00</td>\n",
              "      <td>1.720815e+00</td>\n",
              "      <td>3.021539e+01</td>\n",
              "    </tr>\n",
              "    <tr>\n",
              "      <th>VBOT</th>\n",
              "      <td>47760.0</td>\n",
              "      <td>-7.594555e-01</td>\n",
              "      <td>4.761139e+00</td>\n",
              "      <td>-2.076045e+01</td>\n",
              "      <td>-3.800056e+00</td>\n",
              "      <td>-7.749922e-01</td>\n",
              "      <td>2.072186e+00</td>\n",
              "      <td>3.110628e+01</td>\n",
              "    </tr>\n",
              "    <tr>\n",
              "      <th>QREFHT</th>\n",
              "      <td>47760.0</td>\n",
              "      <td>1.437782e-02</td>\n",
              "      <td>3.969209e-03</td>\n",
              "      <td>4.363584e-03</td>\n",
              "      <td>1.124537e-02</td>\n",
              "      <td>1.456635e-02</td>\n",
              "      <td>1.798656e-02</td>\n",
              "      <td>2.236619e-02</td>\n",
              "    </tr>\n",
              "    <tr>\n",
              "      <th>PS</th>\n",
              "      <td>47760.0</td>\n",
              "      <td>1.015541e+05</td>\n",
              "      <td>5.458636e+02</td>\n",
              "      <td>9.661160e+04</td>\n",
              "      <td>1.011521e+05</td>\n",
              "      <td>1.015280e+05</td>\n",
              "      <td>1.018875e+05</td>\n",
              "      <td>1.039970e+05</td>\n",
              "    </tr>\n",
              "    <tr>\n",
              "      <th>PSL</th>\n",
              "      <td>47760.0</td>\n",
              "      <td>1.015563e+05</td>\n",
              "      <td>5.448553e+02</td>\n",
              "      <td>9.661160e+04</td>\n",
              "      <td>1.011576e+05</td>\n",
              "      <td>1.015312e+05</td>\n",
              "      <td>1.018889e+05</td>\n",
              "      <td>1.039970e+05</td>\n",
              "    </tr>\n",
              "    <tr>\n",
              "      <th>T200</th>\n",
              "      <td>47760.0</td>\n",
              "      <td>2.168945e+02</td>\n",
              "      <td>2.307294e+00</td>\n",
              "      <td>2.088242e+02</td>\n",
              "      <td>2.155043e+02</td>\n",
              "      <td>2.171624e+02</td>\n",
              "      <td>2.184307e+02</td>\n",
              "      <td>2.291729e+02</td>\n",
              "    </tr>\n",
              "    <tr>\n",
              "      <th>T500</th>\n",
              "      <td>47760.0</td>\n",
              "      <td>2.643758e+02</td>\n",
              "      <td>3.507889e+00</td>\n",
              "      <td>2.491460e+02</td>\n",
              "      <td>2.629101e+02</td>\n",
              "      <td>2.652451e+02</td>\n",
              "      <td>2.668773e+02</td>\n",
              "      <td>2.735808e+02</td>\n",
              "    </tr>\n",
              "    <tr>\n",
              "      <th>PRECT</th>\n",
              "      <td>47760.0</td>\n",
              "      <td>4.629730e-08</td>\n",
              "      <td>2.385750e-07</td>\n",
              "      <td>-4.400000e-23</td>\n",
              "      <td>1.610000e-14</td>\n",
              "      <td>5.280000e-09</td>\n",
              "      <td>3.120000e-08</td>\n",
              "      <td>1.440000e-05</td>\n",
              "    </tr>\n",
              "    <tr>\n",
              "      <th>TS</th>\n",
              "      <td>47760.0</td>\n",
              "      <td>2.983095e+02</td>\n",
              "      <td>3.794155e+00</td>\n",
              "      <td>2.893307e+02</td>\n",
              "      <td>2.958607e+02</td>\n",
              "      <td>2.986852e+02</td>\n",
              "      <td>3.017601e+02</td>\n",
              "      <td>3.038698e+02</td>\n",
              "    </tr>\n",
              "    <tr>\n",
              "      <th>TREFHT</th>\n",
              "      <td>47760.0</td>\n",
              "      <td>2.968927e+02</td>\n",
              "      <td>4.021797e+00</td>\n",
              "      <td>2.854267e+02</td>\n",
              "      <td>2.942212e+02</td>\n",
              "      <td>2.973013e+02</td>\n",
              "      <td>3.004741e+02</td>\n",
              "      <td>3.043642e+02</td>\n",
              "    </tr>\n",
              "    <tr>\n",
              "      <th>Z1000</th>\n",
              "      <td>47760.0</td>\n",
              "      <td>1.355229e+02</td>\n",
              "      <td>4.251810e+01</td>\n",
              "      <td>6.333521e+01</td>\n",
              "      <td>1.018365e+02</td>\n",
              "      <td>1.337730e+02</td>\n",
              "      <td>1.626831e+02</td>\n",
              "      <td>3.281237e+02</td>\n",
              "    </tr>\n",
              "    <tr>\n",
              "      <th>Z200</th>\n",
              "      <td>47760.0</td>\n",
              "      <td>1.229162e+04</td>\n",
              "      <td>1.309269e+02</td>\n",
              "      <td>1.171825e+04</td>\n",
              "      <td>1.222998e+04</td>\n",
              "      <td>1.232195e+04</td>\n",
              "      <td>1.239146e+04</td>\n",
              "      <td>1.251103e+04</td>\n",
              "    </tr>\n",
              "    <tr>\n",
              "      <th>ZBOT</th>\n",
              "      <td>47760.0</td>\n",
              "      <td>6.537814e+01</td>\n",
              "      <td>1.041089e+00</td>\n",
              "      <td>6.243359e+01</td>\n",
              "      <td>6.465773e+01</td>\n",
              "      <td>6.547276e+01</td>\n",
              "      <td>6.632780e+01</td>\n",
              "      <td>6.713165e+01</td>\n",
              "    </tr>\n",
              "    <tr>\n",
              "      <th>time</th>\n",
              "      <td>47760.0</td>\n",
              "      <td>2.002393e+07</td>\n",
              "      <td>3.658871e+04</td>\n",
              "      <td>1.996061e+07</td>\n",
              "      <td>2.000091e+07</td>\n",
              "      <td>2.001121e+07</td>\n",
              "      <td>2.004082e+07</td>\n",
              "      <td>2.010103e+07</td>\n",
              "    </tr>\n",
              "    <tr>\n",
              "      <th>LABELS</th>\n",
              "      <td>47760.0</td>\n",
              "      <td>3.862647e-01</td>\n",
              "      <td>7.625111e-01</td>\n",
              "      <td>0.000000e+00</td>\n",
              "      <td>0.000000e+00</td>\n",
              "      <td>0.000000e+00</td>\n",
              "      <td>0.000000e+00</td>\n",
              "      <td>2.000000e+00</td>\n",
              "    </tr>\n",
              "  </tbody>\n",
              "</table>\n",
              "</div>"
            ],
            "text/plain": [
              "          count          mean  ...           75%           max\n",
              "lat     47760.0 -2.933507e+00  ...  2.176662e+01  2.405476e+01\n",
              "lon     47760.0  2.692708e+02  ...  2.771875e+02  3.543750e+02\n",
              "TMQ     47760.0  3.483568e+01  ...  4.472710e+01  8.064136e+01\n",
              "U850    47760.0 -6.202928e-01  ...  3.621788e+00  3.227734e+01\n",
              "V850    47760.0  1.040469e-02  ...  2.341779e+00  5.806025e+01\n",
              "UBOT    47760.0 -2.152124e+00  ...  1.720815e+00  3.021539e+01\n",
              "VBOT    47760.0 -7.594555e-01  ...  2.072186e+00  3.110628e+01\n",
              "QREFHT  47760.0  1.437782e-02  ...  1.798656e-02  2.236619e-02\n",
              "PS      47760.0  1.015541e+05  ...  1.018875e+05  1.039970e+05\n",
              "PSL     47760.0  1.015563e+05  ...  1.018889e+05  1.039970e+05\n",
              "T200    47760.0  2.168945e+02  ...  2.184307e+02  2.291729e+02\n",
              "T500    47760.0  2.643758e+02  ...  2.668773e+02  2.735808e+02\n",
              "PRECT   47760.0  4.629730e-08  ...  3.120000e-08  1.440000e-05\n",
              "TS      47760.0  2.983095e+02  ...  3.017601e+02  3.038698e+02\n",
              "TREFHT  47760.0  2.968927e+02  ...  3.004741e+02  3.043642e+02\n",
              "Z1000   47760.0  1.355229e+02  ...  1.626831e+02  3.281237e+02\n",
              "Z200    47760.0  1.229162e+04  ...  1.239146e+04  1.251103e+04\n",
              "ZBOT    47760.0  6.537814e+01  ...  6.632780e+01  6.713165e+01\n",
              "time    47760.0  2.002393e+07  ...  2.004082e+07  2.010103e+07\n",
              "LABELS  47760.0  3.862647e-01  ...  0.000000e+00  2.000000e+00\n",
              "\n",
              "[20 rows x 8 columns]"
            ]
          },
          "metadata": {},
          "execution_count": 7
        }
      ]
    },
    {
      "cell_type": "code",
      "metadata": {
        "colab": {
          "base_uri": "https://localhost:8080/",
          "height": 631
        },
        "id": "X3FFHZk_t1_N",
        "outputId": "68a494d5-07a8-4adc-960b-cbcef9f94284"
      },
      "source": [
        "test_df.describe().T"
      ],
      "execution_count": 8,
      "outputs": [
        {
          "output_type": "execute_result",
          "data": {
            "text/html": [
              "<div>\n",
              "<style scoped>\n",
              "    .dataframe tbody tr th:only-of-type {\n",
              "        vertical-align: middle;\n",
              "    }\n",
              "\n",
              "    .dataframe tbody tr th {\n",
              "        vertical-align: top;\n",
              "    }\n",
              "\n",
              "    .dataframe thead th {\n",
              "        text-align: right;\n",
              "    }\n",
              "</style>\n",
              "<table border=\"1\" class=\"dataframe\">\n",
              "  <thead>\n",
              "    <tr style=\"text-align: right;\">\n",
              "      <th></th>\n",
              "      <th>count</th>\n",
              "      <th>mean</th>\n",
              "      <th>std</th>\n",
              "      <th>min</th>\n",
              "      <th>25%</th>\n",
              "      <th>50%</th>\n",
              "      <th>75%</th>\n",
              "      <th>max</th>\n",
              "    </tr>\n",
              "  </thead>\n",
              "  <tbody>\n",
              "    <tr>\n",
              "      <th>lat</th>\n",
              "      <td>7320.0</td>\n",
              "      <td>-2.933507e+00</td>\n",
              "      <td>2.290808e+01</td>\n",
              "      <td>-3.109518e+01</td>\n",
              "      <td>-2.458279e+01</td>\n",
              "      <td>-3.872229e+00</td>\n",
              "      <td>2.176662e+01</td>\n",
              "      <td>2.405476e+01</td>\n",
              "    </tr>\n",
              "    <tr>\n",
              "      <th>lon</th>\n",
              "      <td>7320.0</td>\n",
              "      <td>2.692708e+02</td>\n",
              "      <td>4.104896e+01</td>\n",
              "      <td>2.290625e+02</td>\n",
              "      <td>2.418750e+02</td>\n",
              "      <td>2.531250e+02</td>\n",
              "      <td>2.771875e+02</td>\n",
              "      <td>3.543750e+02</td>\n",
              "    </tr>\n",
              "    <tr>\n",
              "      <th>TMQ</th>\n",
              "      <td>7320.0</td>\n",
              "      <td>3.619033e+01</td>\n",
              "      <td>1.405282e+01</td>\n",
              "      <td>1.017640e+01</td>\n",
              "      <td>2.373332e+01</td>\n",
              "      <td>3.620271e+01</td>\n",
              "      <td>4.840228e+01</td>\n",
              "      <td>6.949065e+01</td>\n",
              "    </tr>\n",
              "    <tr>\n",
              "      <th>U850</th>\n",
              "      <td>7320.0</td>\n",
              "      <td>-5.378949e-01</td>\n",
              "      <td>7.520631e+00</td>\n",
              "      <td>-3.560724e+01</td>\n",
              "      <td>-5.287402e+00</td>\n",
              "      <td>-1.184733e+00</td>\n",
              "      <td>3.720756e+00</td>\n",
              "      <td>2.233442e+01</td>\n",
              "    </tr>\n",
              "    <tr>\n",
              "      <th>V850</th>\n",
              "      <td>7320.0</td>\n",
              "      <td>5.343088e-01</td>\n",
              "      <td>4.363787e+00</td>\n",
              "      <td>-1.217288e+01</td>\n",
              "      <td>-2.354917e+00</td>\n",
              "      <td>5.286913e-01</td>\n",
              "      <td>2.938113e+00</td>\n",
              "      <td>1.529989e+01</td>\n",
              "    </tr>\n",
              "    <tr>\n",
              "      <th>UBOT</th>\n",
              "      <td>7320.0</td>\n",
              "      <td>-2.091177e+00</td>\n",
              "      <td>6.831562e+00</td>\n",
              "      <td>-2.722495e+01</td>\n",
              "      <td>-7.204344e+00</td>\n",
              "      <td>-2.510036e+00</td>\n",
              "      <td>2.249489e+00</td>\n",
              "      <td>1.722136e+01</td>\n",
              "    </tr>\n",
              "    <tr>\n",
              "      <th>VBOT</th>\n",
              "      <td>7320.0</td>\n",
              "      <td>-8.481899e-02</td>\n",
              "      <td>4.968153e+00</td>\n",
              "      <td>-1.641806e+01</td>\n",
              "      <td>-3.542063e+00</td>\n",
              "      <td>-2.708225e-01</td>\n",
              "      <td>3.396452e+00</td>\n",
              "      <td>1.632359e+01</td>\n",
              "    </tr>\n",
              "    <tr>\n",
              "      <th>QREFHT</th>\n",
              "      <td>7320.0</td>\n",
              "      <td>1.443893e-02</td>\n",
              "      <td>4.420418e-03</td>\n",
              "      <td>5.218535e-03</td>\n",
              "      <td>1.088273e-02</td>\n",
              "      <td>1.414398e-02</td>\n",
              "      <td>1.884807e-02</td>\n",
              "      <td>2.223912e-02</td>\n",
              "    </tr>\n",
              "    <tr>\n",
              "      <th>PS</th>\n",
              "      <td>7320.0</td>\n",
              "      <td>1.015728e+05</td>\n",
              "      <td>6.117430e+02</td>\n",
              "      <td>9.995482e+04</td>\n",
              "      <td>1.010652e+05</td>\n",
              "      <td>1.015505e+05</td>\n",
              "      <td>1.019987e+05</td>\n",
              "      <td>1.030886e+05</td>\n",
              "    </tr>\n",
              "    <tr>\n",
              "      <th>PSL</th>\n",
              "      <td>7320.0</td>\n",
              "      <td>1.015751e+05</td>\n",
              "      <td>6.103027e+02</td>\n",
              "      <td>9.995482e+04</td>\n",
              "      <td>1.010682e+05</td>\n",
              "      <td>1.015524e+05</td>\n",
              "      <td>1.019987e+05</td>\n",
              "      <td>1.030886e+05</td>\n",
              "    </tr>\n",
              "    <tr>\n",
              "      <th>T200</th>\n",
              "      <td>7320.0</td>\n",
              "      <td>2.175380e+02</td>\n",
              "      <td>2.235806e+00</td>\n",
              "      <td>2.090102e+02</td>\n",
              "      <td>2.163055e+02</td>\n",
              "      <td>2.177297e+02</td>\n",
              "      <td>2.190629e+02</td>\n",
              "      <td>2.248938e+02</td>\n",
              "    </tr>\n",
              "    <tr>\n",
              "      <th>T500</th>\n",
              "      <td>7320.0</td>\n",
              "      <td>2.642572e+02</td>\n",
              "      <td>4.085277e+00</td>\n",
              "      <td>2.485197e+02</td>\n",
              "      <td>2.626114e+02</td>\n",
              "      <td>2.654919e+02</td>\n",
              "      <td>2.670684e+02</td>\n",
              "      <td>2.710223e+02</td>\n",
              "    </tr>\n",
              "    <tr>\n",
              "      <th>PRECT</th>\n",
              "      <td>7320.0</td>\n",
              "      <td>6.642340e-08</td>\n",
              "      <td>2.428085e-07</td>\n",
              "      <td>-7.750000e-23</td>\n",
              "      <td>6.315000e-14</td>\n",
              "      <td>5.720000e-09</td>\n",
              "      <td>4.212500e-08</td>\n",
              "      <td>4.030000e-06</td>\n",
              "    </tr>\n",
              "    <tr>\n",
              "      <th>TS</th>\n",
              "      <td>7320.0</td>\n",
              "      <td>2.981659e+02</td>\n",
              "      <td>4.035549e+00</td>\n",
              "      <td>2.901230e+02</td>\n",
              "      <td>2.953810e+02</td>\n",
              "      <td>2.979493e+02</td>\n",
              "      <td>3.021370e+02</td>\n",
              "      <td>3.036541e+02</td>\n",
              "    </tr>\n",
              "    <tr>\n",
              "      <th>TREFHT</th>\n",
              "      <td>7320.0</td>\n",
              "      <td>2.966974e+02</td>\n",
              "      <td>4.278450e+00</td>\n",
              "      <td>2.865212e+02</td>\n",
              "      <td>2.937610e+02</td>\n",
              "      <td>2.966443e+02</td>\n",
              "      <td>3.007868e+02</td>\n",
              "      <td>3.037686e+02</td>\n",
              "    </tr>\n",
              "    <tr>\n",
              "      <th>Z1000</th>\n",
              "      <td>7320.0</td>\n",
              "      <td>1.367725e+02</td>\n",
              "      <td>4.867027e+01</td>\n",
              "      <td>6.304952e+01</td>\n",
              "      <td>9.339143e+01</td>\n",
              "      <td>1.354349e+02</td>\n",
              "      <td>1.710616e+02</td>\n",
              "      <td>2.571112e+02</td>\n",
              "    </tr>\n",
              "    <tr>\n",
              "      <th>Z200</th>\n",
              "      <td>7320.0</td>\n",
              "      <td>1.229732e+04</td>\n",
              "      <td>1.549147e+02</td>\n",
              "      <td>1.164965e+04</td>\n",
              "      <td>1.224096e+04</td>\n",
              "      <td>1.234470e+04</td>\n",
              "      <td>1.241075e+04</td>\n",
              "      <td>1.247110e+04</td>\n",
              "    </tr>\n",
              "    <tr>\n",
              "      <th>ZBOT</th>\n",
              "      <td>7320.0</td>\n",
              "      <td>6.533340e+01</td>\n",
              "      <td>1.116320e+00</td>\n",
              "      <td>6.268091e+01</td>\n",
              "      <td>6.455891e+01</td>\n",
              "      <td>6.530948e+01</td>\n",
              "      <td>6.642842e+01</td>\n",
              "      <td>6.711091e+01</td>\n",
              "    </tr>\n",
              "    <tr>\n",
              "      <th>time</th>\n",
              "      <td>7320.0</td>\n",
              "      <td>2.011998e+07</td>\n",
              "      <td>8.130591e+03</td>\n",
              "      <td>2.011060e+07</td>\n",
              "      <td>2.011091e+07</td>\n",
              "      <td>2.012071e+07</td>\n",
              "      <td>2.013063e+07</td>\n",
              "      <td>2.013093e+07</td>\n",
              "    </tr>\n",
              "  </tbody>\n",
              "</table>\n",
              "</div>"
            ],
            "text/plain": [
              "         count          mean  ...           75%           max\n",
              "lat     7320.0 -2.933507e+00  ...  2.176662e+01  2.405476e+01\n",
              "lon     7320.0  2.692708e+02  ...  2.771875e+02  3.543750e+02\n",
              "TMQ     7320.0  3.619033e+01  ...  4.840228e+01  6.949065e+01\n",
              "U850    7320.0 -5.378949e-01  ...  3.720756e+00  2.233442e+01\n",
              "V850    7320.0  5.343088e-01  ...  2.938113e+00  1.529989e+01\n",
              "UBOT    7320.0 -2.091177e+00  ...  2.249489e+00  1.722136e+01\n",
              "VBOT    7320.0 -8.481899e-02  ...  3.396452e+00  1.632359e+01\n",
              "QREFHT  7320.0  1.443893e-02  ...  1.884807e-02  2.223912e-02\n",
              "PS      7320.0  1.015728e+05  ...  1.019987e+05  1.030886e+05\n",
              "PSL     7320.0  1.015751e+05  ...  1.019987e+05  1.030886e+05\n",
              "T200    7320.0  2.175380e+02  ...  2.190629e+02  2.248938e+02\n",
              "T500    7320.0  2.642572e+02  ...  2.670684e+02  2.710223e+02\n",
              "PRECT   7320.0  6.642340e-08  ...  4.212500e-08  4.030000e-06\n",
              "TS      7320.0  2.981659e+02  ...  3.021370e+02  3.036541e+02\n",
              "TREFHT  7320.0  2.966974e+02  ...  3.007868e+02  3.037686e+02\n",
              "Z1000   7320.0  1.367725e+02  ...  1.710616e+02  2.571112e+02\n",
              "Z200    7320.0  1.229732e+04  ...  1.241075e+04  1.247110e+04\n",
              "ZBOT    7320.0  6.533340e+01  ...  6.642842e+01  6.711091e+01\n",
              "time    7320.0  2.011998e+07  ...  2.013063e+07  2.013093e+07\n",
              "\n",
              "[19 rows x 8 columns]"
            ]
          },
          "metadata": {},
          "execution_count": 8
        }
      ]
    },
    {
      "cell_type": "code",
      "metadata": {
        "colab": {
          "base_uri": "https://localhost:8080/",
          "height": 387
        },
        "id": "nOkx92GduDhT",
        "outputId": "5cec03db-ae71-451d-864e-1533d82a0b7e"
      },
      "source": [
        "#checking the ratios of 0s, 1s and 2s in the train dataset\n",
        "fig, ax=plt.subplots(1,2,figsize=(15,6))\n",
        "_ = sns.countplot(x='LABELS', data=train_df, ax=ax[0])\n",
        "_ = train_df['LABELS'].value_counts().plot.pie(ax=ax[1])"
      ],
      "execution_count": 9,
      "outputs": [
        {
          "output_type": "display_data",
          "data": {
            "image/png": "[encoded data removed]",
            "text/plain": [
              "<Figure size 1080x432 with 2 Axes>"
            ]
          },
          "metadata": {
            "needs_background": "light"
          }
        }
      ]
    },
    {
      "cell_type": "code",
      "metadata": {
        "colab": {
          "base_uri": "https://localhost:8080/"
        },
        "id": "mmeHTV54uHev",
        "outputId": "5bed3e27-792a-4190-81a7-a060b57d119c"
      },
      "source": [
        "#checking if there is any null values present\n",
        "print(train_df.isnull().sum())"
      ],
      "execution_count": 10,
      "outputs": [
        {
          "output_type": "stream",
          "name": "stdout",
          "text": [
            "lat       0\n",
            "lon       0\n",
            "TMQ       0\n",
            "U850      0\n",
            "V850      0\n",
            "UBOT      0\n",
            "VBOT      0\n",
            "QREFHT    0\n",
            "PS        0\n",
            "PSL       0\n",
            "T200      0\n",
            "T500      0\n",
            "PRECT     0\n",
            "TS        0\n",
            "TREFHT    0\n",
            "Z1000     0\n",
            "Z200      0\n",
            "ZBOT      0\n",
            "time      0\n",
            "LABELS    0\n",
            "dtype: int64\n"
          ]
        }
      ]
    },
    {
      "cell_type": "code",
      "metadata": {
        "colab": {
          "base_uri": "https://localhost:8080/",
          "height": 1000
        },
        "id": "nblEaf_FuMcm",
        "outputId": "220470ba-5d7c-473f-f811-f762a759c33f"
      },
      "source": [
        "#heatmap \n",
        "f,ax = plt.subplots(figsize=(18, 18))\n",
        "sns.heatmap(train_df.corr(), annot=True, linewidths=.5, fmt= '.1f',ax=ax)"
      ],
      "execution_count": 11,
      "outputs": [
        {
          "output_type": "execute_result",
          "data": {
            "text/plain": [
              "<matplotlib.axes._subplots.AxesSubplot at 0x7f28d5ba41d0>"
            ]
          },
          "metadata": {},
          "execution_count": 11
        },
        {
          "output_type": "display_data",
          "data": {
            "image/png": "[encoded data removed]",
            "text/plain": [
              "<Figure size 1296x1296 with 2 Axes>"
            ]
          },
          "metadata": {
            "needs_background": "light"
          }
        }
      ]
    },
    {
      "cell_type": "code",
      "metadata": {
        "id": "uqczYZJfv5kn"
      },
      "source": [
        "#splitting the train dataset \n",
        "X = train_df.iloc[:, :-1]\n",
        "Y = train_df.iloc[:, -1]\n",
        "x_train, x_test, y_train, y_test = train_test_split(X, Y, test_size=0.20, random_state=42)"
      ],
      "execution_count": 12,
      "outputs": []
    },
    {
      "cell_type": "code",
      "metadata": {
        "colab": {
          "base_uri": "https://localhost:8080/"
        },
        "id": "JFogYbd2jPwP",
        "outputId": "9851545f-5e70-41ef-c3b8-ce8cb271c002"
      },
      "source": [
        "#KNN\n",
        "knn_classifier = KNeighborsClassifier()\n",
        "knn_classifier.fit(x_train, y_train)\n",
        "knn_predictions = knn_classifier.predict(x_test)\n",
        "knn_predictions_test = knn_classifier.predict(test_df)\n",
        "\n",
        "print(\"The accuracy in general is : \", accuracy_score(y_test,knn_predictions))\n",
        "print(\"\\n\")\n",
        "print(\"The classification report is as follows:\\n\", classification_report(y_test,knn_predictions))"
      ],
      "execution_count": 13,
      "outputs": [
        {
          "output_type": "stream",
          "name": "stdout",
          "text": [
            "The accuracy in general is :  0.8782453936348409\n",
            "\n",
            "\n",
            "The classification report is as follows:\n",
            "               precision    recall  f1-score   support\n",
            "\n",
            "           0       0.92      0.93      0.92      7561\n",
            "           1       0.72      0.70      0.71       351\n",
            "           2       0.71      0.68      0.69      1640\n",
            "\n",
            "    accuracy                           0.88      9552\n",
            "   macro avg       0.78      0.77      0.78      9552\n",
            "weighted avg       0.88      0.88      0.88      9552\n",
            "\n"
          ]
        }
      ]
    },
    {
      "cell_type": "code",
      "metadata": {
        "colab": {
          "base_uri": "https://localhost:8080/"
        },
        "id": "9fQ6aLCKkbDp",
        "outputId": "d4294fe0-a3b2-4e85-968d-bb9ee9ed838b"
      },
      "source": [
        "#Logistic Regression using scikit Learn\n",
        "logreg_classifier = LogisticRegression(random_state=42)\n",
        "logreg_classifier.fit(x_train, y_train)\n",
        "\n",
        "logreg_predictions = logreg_classifier.predict(x_test)\n",
        "logreg_predictions_test = logreg_classifier.predict(test_df)\n",
        "\n",
        "print(\"The accuracy in general is : \", accuracy_score(y_test,logreg_predictions))\n",
        "print(\"\\n\")\n",
        "print(\"The classification report is as follows:\\n\", classification_report(y_test,logreg_predictions))\n"
      ],
      "execution_count": 14,
      "outputs": [
        {
          "output_type": "stream",
          "name": "stdout",
          "text": [
            "The accuracy in general is :  0.7915619765494137\n",
            "\n",
            "\n",
            "The classification report is as follows:\n",
            "               precision    recall  f1-score   support\n",
            "\n",
            "           0       0.79      1.00      0.88      7561\n",
            "           1       0.00      0.00      0.00       351\n",
            "           2       0.00      0.00      0.00      1640\n",
            "\n",
            "    accuracy                           0.79      9552\n",
            "   macro avg       0.26      0.33      0.29      9552\n",
            "weighted avg       0.63      0.79      0.70      9552\n",
            "\n"
          ]
        },
        {
          "output_type": "stream",
          "name": "stderr",
          "text": [
            "/usr/local/lib/python3.7/dist-packages/sklearn/metrics/_classification.py:1272: UndefinedMetricWarning: Precision and F-score are ill-defined and being set to 0.0 in labels with no predicted samples. Use `zero_division` parameter to control this behavior.\n",
            "  _warn_prf(average, modifier, msg_start, len(result))\n"
          ]
        }
      ]
    },
    {
      "cell_type": "code",
      "metadata": {
        "colab": {
          "base_uri": "https://localhost:8080/",
          "height": 531
        },
        "id": "_vW7UBiuv_ot",
        "outputId": "2262ef95-3c73-4537-a433-f3d28afc7bb7"
      },
      "source": [
        "# Random Forest\n",
        "\n",
        "rf_classifier = RandomForestClassifier(random_state=43)      \n",
        "rf_classifier = rf_classifier.fit(x_train,y_train)\n",
        "\n",
        "rf_predictions = rf_classifier.predict(x_test)\n",
        "rf_predictions_test = rf_classifier.predict(test_df)\n",
        "\n",
        "print(\"The accuracy in general is : \", accuracy_score(y_test,rf_predictions))\n",
        "print(\"\\n\")\n",
        "print(\"The classification report is as follows:\\n\", classification_report(y_test,rf_predictions))\n",
        "\n",
        "cm = confusion_matrix(y_test,rf_classifier.predict(x_test))\n",
        "sns.heatmap(cm,annot=True,fmt=\"d\")"
      ],
      "execution_count": 15,
      "outputs": [
        {
          "output_type": "stream",
          "name": "stdout",
          "text": [
            "The accuracy in general is :  0.8600293132328308\n",
            "\n",
            "\n",
            "The classification report is as follows:\n",
            "               precision    recall  f1-score   support\n",
            "\n",
            "           0       0.91      0.92      0.91      7561\n",
            "           1       0.65      0.66      0.66       351\n",
            "           2       0.66      0.64      0.65      1640\n",
            "\n",
            "    accuracy                           0.86      9552\n",
            "   macro avg       0.74      0.74      0.74      9552\n",
            "weighted avg       0.86      0.86      0.86      9552\n",
            "\n"
          ]
        },
        {
          "output_type": "execute_result",
          "data": {
            "text/plain": [
              "<matplotlib.axes._subplots.AxesSubplot at 0x7f28ccaf23d0>"
            ]
          },
          "metadata": {},
          "execution_count": 15
        },
        {
          "output_type": "display_data",
          "data": {
            "image/png": "[encoded data removed]",
            "text/plain": [
              "<Figure size 432x288 with 2 Axes>"
            ]
          },
          "metadata": {
            "needs_background": "light"
          }
        }
      ]
    },
    {
      "cell_type": "code",
      "metadata": {
        "id": "PdLw1CkHwJ2j"
      },
      "source": [
        "# find best scored 5 features\n",
        "best_feature = SelectKBest(score_func=f_classif, k=5).fit(x_train,y_train )"
      ],
      "execution_count": 16,
      "outputs": []
    },
    {
      "cell_type": "code",
      "metadata": {
        "colab": {
          "base_uri": "https://localhost:8080/"
        },
        "id": "VmUgWZ3Mwe4x",
        "outputId": "b3cb91f3-4e52-4123-a787-3112f44ae833"
      },
      "source": [
        "print('Score list:', best_feature.scores_)\n",
        "print('Feature list:', x_train.columns)"
      ],
      "execution_count": 17,
      "outputs": [
        {
          "output_type": "stream",
          "name": "stdout",
          "text": [
            "Score list: [3907.02873235  264.97179084 2269.60875254 1974.55790029  325.86920307\n",
            "  909.80820017  111.97145095 2187.35928785 2692.07965329 2697.9944414\n",
            " 1346.26125016 1869.31256785  425.99293848 2514.84013511 2120.18193433\n",
            " 1969.86702874 2025.63265299 2104.98569098   40.47699683]\n",
            "Feature list: Index(['lat', 'lon', 'TMQ', 'U850', 'V850', 'UBOT', 'VBOT', 'QREFHT', 'PS',\n",
            "       'PSL', 'T200', 'T500', 'PRECT', 'TS', 'TREFHT', 'Z1000', 'Z200', 'ZBOT',\n",
            "       'time'],\n",
            "      dtype='object')\n"
          ]
        }
      ]
    },
    {
      "cell_type": "code",
      "metadata": {
        "colab": {
          "base_uri": "https://localhost:8080/",
          "height": 531
        },
        "id": "usXWsQ2IyLR4",
        "outputId": "38885357-973b-49da-9994-9b4769b55c2a"
      },
      "source": [
        "x_train_2 = best_feature.transform(x_train)\n",
        "x_test_2 = best_feature.transform(x_test)\n",
        "#random forest classifier with n_estimators=10 (default)\n",
        "clf_rf_2 = RandomForestClassifier()      \n",
        "clr_rf_2 = clf_rf_2.fit(x_train_2,y_train)\n",
        "\n",
        "print(\"The accuracy in general is : \", accuracy_score(y_test,clf_rf_2.predict(x_test_2)))\n",
        "print(\"\\n\")\n",
        "print(\"The classification report is as follows:\\n\", classification_report(y_test,clf_rf_2.predict(x_test_2)))\n",
        "cm_2 = confusion_matrix(y_test,clf_rf_2.predict(x_test_2))\n",
        "sns.heatmap(cm_2,annot=True,fmt=\"d\")"
      ],
      "execution_count": 19,
      "outputs": [
        {
          "output_type": "stream",
          "name": "stdout",
          "text": [
            "The accuracy in general is :  0.8519681742043551\n",
            "\n",
            "\n",
            "The classification report is as follows:\n",
            "               precision    recall  f1-score   support\n",
            "\n",
            "           0       0.90      0.92      0.91      7561\n",
            "           1       0.63      0.59      0.61       351\n",
            "           2       0.65      0.60      0.63      1640\n",
            "\n",
            "    accuracy                           0.85      9552\n",
            "   macro avg       0.73      0.70      0.72      9552\n",
            "weighted avg       0.85      0.85      0.85      9552\n",
            "\n"
          ]
        },
        {
          "output_type": "execute_result",
          "data": {
            "text/plain": [
              "<matplotlib.axes._subplots.AxesSubplot at 0x7f28cb1a3bd0>"
            ]
          },
          "metadata": {},
          "execution_count": 19
        },
        {
          "output_type": "display_data",
          "data": {
            "image/png": "[encoded data removed]",
            "text/plain": [
              "<Figure size 432x288 with 2 Axes>"
            ]
          },
          "metadata": {
            "needs_background": "light"
          }
        }
      ]
    },
    {
      "cell_type": "code",
      "metadata": {
        "id": "_vH31imNyUot"
      },
      "source": [
        "from sklearn.feature_selection import RFE\n",
        "# Create the RFE object and rank each pixel\n",
        "rf_classifier_3 = RandomForestClassifier()      \n",
        "rfe = RFE(estimator=rf_classifier_3, n_features_to_select=5, step=1)\n",
        "rfe = rfe.fit(x_train, y_train)"
      ],
      "execution_count": 20,
      "outputs": []
    },
    {
      "cell_type": "code",
      "metadata": {
        "colab": {
          "base_uri": "https://localhost:8080/"
        },
        "id": "Pkh-qursyav6",
        "outputId": "1108601d-d87c-4f6b-a1b6-8b49a9c4e54d"
      },
      "source": [
        "print('Chosen best 5 feature by rfe:',x_train.columns[rfe.support_])"
      ],
      "execution_count": 21,
      "outputs": [
        {
          "output_type": "stream",
          "name": "stdout",
          "text": [
            "Chosen best 5 feature by rfe: Index(['U850', 'VBOT', 'PS', 'TS', 'Z200'], dtype='object')\n"
          ]
        }
      ]
    },
    {
      "cell_type": "code",
      "metadata": {
        "colab": {
          "base_uri": "https://localhost:8080/"
        },
        "id": "P5Ztwy8YzHcH",
        "outputId": "71a5ebb1-5a4d-4ad1-d109-4d1358573e57"
      },
      "source": [
        "from sklearn.feature_selection import RFECV\n",
        "\n",
        "# The \"accuracy\" scoring is proportional to the number of correct classifications\n",
        "rf_classifier_4 = RandomForestClassifier() \n",
        "rfecv = RFECV(estimator=rf_classifier_4, step=1, cv=5,scoring='accuracy')   #5-fold cross-validation\n",
        "rfecv = rfecv.fit(x_train, y_train)\n",
        "\n",
        "print('Optimal number of features :', rfecv.n_features_)\n",
        "print('Best features :', x_train.columns[rfecv.support_])"
      ],
      "execution_count": 22,
      "outputs": [
        {
          "output_type": "stream",
          "name": "stdout",
          "text": [
            "Optimal number of features : 14\n",
            "Best features : Index(['lat', 'TMQ', 'U850', 'V850', 'UBOT', 'VBOT', 'PS', 'PSL', 'T200',\n",
            "       'T500', 'TS', 'TREFHT', 'Z200', 'time'],\n",
            "      dtype='object')\n"
          ]
        }
      ]
    },
    {
      "cell_type": "code",
      "metadata": {
        "colab": {
          "base_uri": "https://localhost:8080/",
          "height": 304
        },
        "id": "fSu03i6mzlbo",
        "outputId": "04e3c246-32f4-49ae-bf38-705787d3f0a2"
      },
      "source": [
        "plt.figure()\n",
        "plt.xlabel(\"Number of features selected\")\n",
        "plt.ylabel(\"Cross validation score of number of selected features\")\n",
        "plt.plot(range(1, len(rfecv.grid_scores_) + 1), rfecv.grid_scores_)\n",
        "plt.show()"
      ],
      "execution_count": 23,
      "outputs": [
        {
          "output_type": "display_data",
          "data": {
            "image/png": "[encoded data removed]",
            "text/plain": [
              "<Figure size 432x288 with 1 Axes>"
            ]
          },
          "metadata": {
            "needs_background": "light"
          }
        }
      ]
    },
    {
      "cell_type": "code",
      "metadata": {
        "colab": {
          "base_uri": "https://localhost:8080/",
          "height": 1000
        },
        "id": "jV5MlFXv3_SW",
        "outputId": "7dce7922-f78f-49e9-a908-9ac1a9565c54"
      },
      "source": [
        "import numpy as np\n",
        "rf_classifier_5 = RandomForestClassifier()      \n",
        "rf_classifier_5 = rf_classifier_5.fit(x_train,y_train)\n",
        "importances = rf_classifier_5.feature_importances_\n",
        "std = np.std([tree.feature_importances_ for tree in rf_classifier_5.estimators_],\n",
        "             axis=0)\n",
        "indices = np.argsort(importances)[::-1]\n",
        "\n",
        "# Print the feature ranking\n",
        "print(\"Feature ranking:\")\n",
        "\n",
        "for f in range(x_train.shape[1]):\n",
        "    print(\"%d. feature %d (%f)\" % (f + 1, indices[f], importances[indices[f]]))\n",
        "\n",
        "# Plot the feature importances of the forest\n",
        "\n",
        "plt.figure(1, figsize=(14, 13))\n",
        "plt.title(\"Feature importances\")\n",
        "plt.bar(range(x_train.shape[1]), importances[indices],\n",
        "       color=\"g\", yerr=std[indices], align=\"center\")\n",
        "plt.xticks(range(x_train.shape[1]), x_train.columns[indices],rotation=90)\n",
        "plt.xlim([-1, x_train.shape[1]])\n",
        "plt.show()"
      ],
      "execution_count": 26,
      "outputs": [
        {
          "output_type": "stream",
          "name": "stdout",
          "text": [
            "Feature ranking:\n",
            "1. feature 3 (0.100208)\n",
            "2. feature 5 (0.066203)\n",
            "3. feature 0 (0.064946)\n",
            "4. feature 16 (0.064251)\n",
            "5. feature 9 (0.062641)\n",
            "6. feature 6 (0.061700)\n",
            "7. feature 2 (0.057861)\n",
            "8. feature 8 (0.056461)\n",
            "9. feature 15 (0.054251)\n",
            "10. feature 4 (0.053727)\n",
            "11. feature 13 (0.052254)\n",
            "12. feature 10 (0.051387)\n",
            "13. feature 18 (0.051353)\n",
            "14. feature 14 (0.049973)\n",
            "15. feature 17 (0.045719)\n",
            "16. feature 11 (0.045367)\n",
            "17. feature 7 (0.039223)\n",
            "18. feature 1 (0.021500)\n",
            "19. feature 12 (0.000975)\n"
          ]
        },
        {
          "output_type": "display_data",
          "data": {
            "image/png": "[encoded data removed]",
            "text/plain": [
              "<Figure size 1008x936 with 1 Axes>"
            ]
          },
          "metadata": {
            "needs_background": "light"
          }
        }
      ]
    },
    {
      "cell_type": "code",
      "metadata": {
        "colab": {
          "base_uri": "https://localhost:8080/"
        },
        "id": "A3CrT9v04GmN",
        "outputId": "6c31ad74-e4ef-4bbe-935a-8f3a58a651e5"
      },
      "source": [
        "from sklearn.model_selection import GridSearchCV\n",
        "n_estimators = [25,50,100]\n",
        "max_depth = [10,20,30]\n",
        "min_samples_leaf = [2,4,6,8]\n",
        "bootstrap = [True, False]\n",
        "max_features= [5,10,15,18]\n",
        "\n",
        "param_grid = {\n",
        "    \"n_estimators\": n_estimators,\n",
        "    \"max_depth\": max_depth,\n",
        "    \"min_samples_leaf\": min_samples_leaf,\n",
        "    \"bootstrap\": bootstrap,\n",
        "    \"max_features\": max_features,\n",
        "}\n",
        "\n",
        "rf = RandomForestClassifier(random_state=42)\n",
        "\n",
        "rf_model = GridSearchCV(estimator=rf, param_grid=param_grid, cv=2, verbose=10, n_jobs=-1)\n",
        "rf_model.fit(x_train_2, y_train)\n",
        "\n",
        "print(\"Using hyperparameters --> \\n\", rf_model.best_params_)"
      ],
      "execution_count": null,
      "outputs": [
        {
          "output_type": "stream",
          "name": "stdout",
          "text": [
            "Fitting 2 folds for each of 288 candidates, totalling 576 fits\n"
          ]
        },
        {
          "output_type": "stream",
          "name": "stderr",
          "text": [
            "[Parallel(n_jobs=-1)]: Using backend LokyBackend with 2 concurrent workers.\n",
            "[Parallel(n_jobs=-1)]: Done   1 tasks      | elapsed:    3.2s\n",
            "[Parallel(n_jobs=-1)]: Done   4 tasks      | elapsed:    7.3s\n",
            "[Parallel(n_jobs=-1)]: Done   9 tasks      | elapsed:   21.6s\n",
            "[Parallel(n_jobs=-1)]: Done  14 tasks      | elapsed:   31.7s\n",
            "[Parallel(n_jobs=-1)]: Done  21 tasks      | elapsed:   49.7s\n",
            "[Parallel(n_jobs=-1)]: Done  28 tasks      | elapsed:   57.9s\n",
            "[Parallel(n_jobs=-1)]: Done  37 tasks      | elapsed:   58.2s\n",
            "[Parallel(n_jobs=-1)]: Done  46 tasks      | elapsed:   58.5s\n",
            "[Parallel(n_jobs=-1)]: Batch computation too fast (0.1908s.) Setting batch_size=2.\n",
            "[Parallel(n_jobs=-1)]: Batch computation too fast (0.1357s.) Setting batch_size=4.\n",
            "[Parallel(n_jobs=-1)]: Done  64 tasks      | elapsed:   59.0s\n",
            "[Parallel(n_jobs=-1)]: Batch computation too slow (3.3952s.) Setting batch_size=1.\n",
            "[Parallel(n_jobs=-1)]: Done 108 tasks      | elapsed:  1.6min\n",
            "[Parallel(n_jobs=-1)]: Done 127 tasks      | elapsed:  2.0min\n",
            "[Parallel(n_jobs=-1)]: Done 140 tasks      | elapsed:  2.0min\n",
            "[Parallel(n_jobs=-1)]: Batch computation too fast (0.1979s.) Setting batch_size=2.\n",
            "[Parallel(n_jobs=-1)]: Batch computation too fast (0.1842s.) Setting batch_size=4.\n",
            "[Parallel(n_jobs=-1)]: Done 159 tasks      | elapsed:  2.1min\n",
            "[Parallel(n_jobs=-1)]: Batch computation too slow (3.5414s.) Setting batch_size=1.\n",
            "[Parallel(n_jobs=-1)]: Done 210 tasks      | elapsed:  3.0min\n",
            "[Parallel(n_jobs=-1)]: Done 227 tasks      | elapsed:  3.2min\n",
            "[Parallel(n_jobs=-1)]: Batch computation too fast (0.1824s.) Setting batch_size=2.\n",
            "[Parallel(n_jobs=-1)]: Done 244 tasks      | elapsed:  3.3min\n",
            "[Parallel(n_jobs=-1)]: Batch computation too fast (0.1607s.) Setting batch_size=4.\n",
            "[Parallel(n_jobs=-1)]: Batch computation too slow (6.1152s.) Setting batch_size=1.\n",
            "[Parallel(n_jobs=-1)]: Done 306 tasks      | elapsed:  4.5min\n",
            "[Parallel(n_jobs=-1)]: Done 328 tasks      | elapsed:  4.7min\n",
            "[Parallel(n_jobs=-1)]: Batch computation too fast (0.1981s.) Setting batch_size=2.\n",
            "[Parallel(n_jobs=-1)]: Batch computation too fast (0.1225s.) Setting batch_size=4.\n",
            "[Parallel(n_jobs=-1)]: Done 352 tasks      | elapsed:  4.7min\n",
            "[Parallel(n_jobs=-1)]: Batch computation too slow (7.3227s.) Setting batch_size=1.\n",
            "[Parallel(n_jobs=-1)]: Done 410 tasks      | elapsed:  6.4min\n",
            "[Parallel(n_jobs=-1)]: Done 433 tasks      | elapsed:  6.4min\n",
            "[Parallel(n_jobs=-1)]: Batch computation too fast (0.1975s.) Setting batch_size=2.\n",
            "[Parallel(n_jobs=-1)]: Batch computation too fast (0.1185s.) Setting batch_size=4.\n",
            "[Parallel(n_jobs=-1)]: Done 472 tasks      | elapsed:  6.4min\n"
          ]
        }
      ]
    },
    {
      "cell_type": "code",
      "metadata": {
        "colab": {
          "base_uri": "https://localhost:8080/"
        },
        "id": "XVNU2GRw5XwU",
        "outputId": "b3d0cabf-b5f5-4f57-9502-dc07e8cb12ea"
      },
      "source": [
        "rf_model.best_params_\n",
        "rf_model.best_score_\n",
        "rf_model.best_estimator_"
      ],
      "execution_count": 28,
      "outputs": [
        {
          "output_type": "execute_result",
          "data": {
            "text/plain": [
              "RandomForestClassifier(bootstrap=True, ccp_alpha=0.0, class_weight=None,\n",
              "                       criterion='gini', max_depth=30, max_features=5,\n",
              "                       max_leaf_nodes=None, max_samples=None,\n",
              "                       min_impurity_decrease=0.0, min_impurity_split=None,\n",
              "                       min_samples_leaf=6, min_samples_split=2,\n",
              "                       min_weight_fraction_leaf=0.0, n_estimators=100,\n",
              "                       n_jobs=None, oob_score=False, random_state=42, verbose=0,\n",
              "                       warm_start=False)"
            ]
          },
          "metadata": {},
          "execution_count": 28
        }
      ]
    },
    {
      "cell_type": "code",
      "metadata": {
        "colab": {
          "base_uri": "https://localhost:8080/"
        },
        "id": "xw5SJnpK-Gel",
        "outputId": "1e186add-5987-4b77-e2a4-54b385cb0b26"
      },
      "source": [
        "from sklearn.metrics import accuracy_score, confusion_matrix, classification_report\n",
        "rf = RandomForestClassifier(bootstrap=True, ccp_alpha=0.0, class_weight=None,\n",
        "                       criterion='gini', max_depth=20,\n",
        "                       max_leaf_nodes=None, max_samples=None,\n",
        "                       min_impurity_decrease=0.0, min_impurity_split=None,\n",
        "                       min_samples_leaf=6, min_samples_split=2,\n",
        "                       min_weight_fraction_leaf=0.0, n_estimators=100,\n",
        "                       n_jobs=None, oob_score=False, random_state=42, verbose=0,\n",
        "                       warm_start=False)\n",
        "\n",
        "rf.fit(x_train_2, y_train)\n",
        "\n",
        "y_predict_train_rf = rf.predict(x_train_2)\n",
        "print(x_test.shape)\n",
        "x_test_new = x_test[['U850', 'VBOT', 'PS', 'TS', 'Z200']]\n",
        "y_predict_test_rf = rf.predict(x_test_new)\n",
        "test_df_new = test_df[['U850', 'VBOT', 'PS', 'TS', 'Z200']]\n",
        "y_predict_test_rf_test = rf.predict(test_df_new)\n",
        "\n",
        "#print(y_predict_test_rf_test)\n",
        "train_accuracy_score_rf = accuracy_score(y_train, y_predict_train_rf)\n",
        "test_accuracy_score_rf = accuracy_score(y_test, y_predict_test_rf)\n",
        "\n",
        "print(train_accuracy_score_rf)\n",
        "print(test_accuracy_score_rf)\n",
        "\n",
        "print(classification_report(y_train, y_predict_train_rf))"
      ],
      "execution_count": 29,
      "outputs": [
        {
          "output_type": "stream",
          "name": "stdout",
          "text": [
            "(9552, 19)\n",
            "0.9078465242881072\n",
            "0.7915619765494137\n",
            "              precision    recall  f1-score   support\n",
            "\n",
            "           0       0.92      0.97      0.94     29974\n",
            "           1       0.84      0.69      0.76      1651\n",
            "           2       0.84      0.70      0.76      6583\n",
            "\n",
            "    accuracy                           0.91     38208\n",
            "   macro avg       0.87      0.79      0.82     38208\n",
            "weighted avg       0.90      0.91      0.90     38208\n",
            "\n"
          ]
        }
      ]
    },
    {
      "cell_type": "code",
      "metadata": {
        "id": "SV1dzyg5-fSk"
      },
      "source": [
        "# submission = pd.DataFrame({'S.No': test_df.index,'LABELS':y_predict_test_rf_test})\n",
        "# filename = 'Submission_Abhay_RF_V10.csv'\n",
        "\n",
        "# submission.to_csv(filename,index=False)\n",
        "\n",
        "# print('Saved file: ' + filename)"
      ],
      "execution_count": 30,
      "outputs": []
    },
    {
      "cell_type": "code",
      "metadata": {
        "colab": {
          "base_uri": "https://localhost:8080/"
        },
        "id": "XJ5F9oL5Dhx2",
        "outputId": "1bd4047f-20d2-47b1-93d8-1a920f9b6554"
      },
      "source": [
        "#xgboost\n",
        "from xgboost import XGBClassifier\n",
        "params = {\n",
        "            'objective':'multi:softmax',\n",
        "            'max_depth': 10,\n",
        "            'alpha': 20,\n",
        "            'learning_rate': 0.05,\n",
        "            'n_estimators':100,\n",
        "            'scale_pos_weight':1}    \n",
        "\n",
        "xgb_clf = XGBClassifier(**params)\n",
        "xgb_clf.fit(x_train, y_train)"
      ],
      "execution_count": 31,
      "outputs": [
        {
          "output_type": "execute_result",
          "data": {
            "text/plain": [
              "XGBClassifier(alpha=20, base_score=0.5, booster='gbtree', colsample_bylevel=1,\n",
              "              colsample_bynode=1, colsample_bytree=1, gamma=0,\n",
              "              learning_rate=0.05, max_delta_step=0, max_depth=10,\n",
              "              min_child_weight=1, missing=None, n_estimators=100, n_jobs=1,\n",
              "              nthread=None, objective='multi:softprob', random_state=0,\n",
              "              reg_alpha=0, reg_lambda=1, scale_pos_weight=1, seed=None,\n",
              "              silent=None, subsample=1, verbosity=1)"
            ]
          },
          "metadata": {},
          "execution_count": 31
        }
      ]
    },
    {
      "cell_type": "code",
      "metadata": {
        "id": "ZSsxGsL5D1FH"
      },
      "source": [
        "# print(x_test)\n",
        "y_pred = xgb_clf.predict(x_test)\n",
        "y_pred_test = xgb_clf.predict(test_df)"
      ],
      "execution_count": 32,
      "outputs": []
    },
    {
      "cell_type": "code",
      "metadata": {
        "colab": {
          "base_uri": "https://localhost:8080/"
        },
        "id": "wIXfeCN9PVAg",
        "outputId": "220d619a-1969-4eda-c71e-7ada5a8acfab"
      },
      "source": [
        "import numpy as np\n",
        "n_zeros = np.count_nonzero(y_pred_test==0)\n",
        "# display the count of zeros\n",
        "print(n_zeros)"
      ],
      "execution_count": 33,
      "outputs": [
        {
          "output_type": "stream",
          "name": "stdout",
          "text": [
            "6008\n"
          ]
        }
      ]
    },
    {
      "cell_type": "code",
      "metadata": {
        "colab": {
          "base_uri": "https://localhost:8080/"
        },
        "id": "KAlPafuUEgOF",
        "outputId": "db11c5c8-77f7-4f34-f609-fc8c0547e2fb"
      },
      "source": [
        "from sklearn.metrics import accuracy_score\n",
        "\n",
        "print('XGBoost model accuracy score: {0:0.4f}'. format(accuracy_score(y_test, y_pred)))"
      ],
      "execution_count": 34,
      "outputs": [
        {
          "output_type": "stream",
          "name": "stdout",
          "text": [
            "XGBoost model accuracy score: 0.8821\n"
          ]
        }
      ]
    },
    {
      "cell_type": "code",
      "metadata": {
        "colab": {
          "base_uri": "https://localhost:8080/"
        },
        "id": "_1HbkJjcYivP",
        "outputId": "53ec872a-bae1-45ad-a0bb-61a1dba71ca1"
      },
      "source": [
        "from sklearn.metrics import accuracy_score,classification_report,roc_auc_score\n",
        "print(\"The classification report is as follows:\\n\", classification_report(y_test,y_pred))"
      ],
      "execution_count": 35,
      "outputs": [
        {
          "output_type": "stream",
          "name": "stdout",
          "text": [
            "The classification report is as follows:\n",
            "               precision    recall  f1-score   support\n",
            "\n",
            "           0       0.92      0.94      0.93      7561\n",
            "           1       0.70      0.66      0.68       351\n",
            "           2       0.75      0.66      0.70      1640\n",
            "\n",
            "    accuracy                           0.88      9552\n",
            "   macro avg       0.79      0.75      0.77      9552\n",
            "weighted avg       0.88      0.88      0.88      9552\n",
            "\n"
          ]
        }
      ]
    },
    {
      "cell_type": "code",
      "metadata": {
        "colab": {
          "base_uri": "https://localhost:8080/"
        },
        "id": "zG0FUrs6YizN",
        "outputId": "eb6fdcd6-6ac6-452d-bad2-a4599587e244"
      },
      "source": [
        "import lightgbm as lgb\n",
        "lgbm_tuned = lgb.LGBMClassifier(\n",
        "                            learning_rate=0.05, \n",
        "                            max_depth=10, \n",
        "                            n_estimators=500, \n",
        "                            colsample_bytree=0.6) # LightGBM Classifier with optimum paramteres\n",
        "lgbm_tuned.fit(x_train, y_train) #Fit the model with the optimum parameters"
      ],
      "execution_count": 36,
      "outputs": [
        {
          "output_type": "execute_result",
          "data": {
            "text/plain": [
              "LGBMClassifier(boosting_type='gbdt', class_weight=None, colsample_bytree=0.6,\n",
              "               importance_type='split', learning_rate=0.05, max_depth=10,\n",
              "               min_child_samples=20, min_child_weight=0.001, min_split_gain=0.0,\n",
              "               n_estimators=500, n_jobs=-1, num_leaves=31, objective=None,\n",
              "               random_state=None, reg_alpha=0.0, reg_lambda=0.0, silent=True,\n",
              "               subsample=1.0, subsample_for_bin=200000, subsample_freq=0)"
            ]
          },
          "metadata": {},
          "execution_count": 36
        }
      ]
    },
    {
      "cell_type": "code",
      "metadata": {
        "colab": {
          "base_uri": "https://localhost:8080/"
        },
        "id": "4wegRmyXYi12",
        "outputId": "c68dfb1c-7332-4cf2-97e5-ae46a45a9b10"
      },
      "source": [
        "y_test_pred = lgbm_tuned.predict(x_test) #Predicting X_test to find the solutiın\n",
        "y_test_pred1= lgbm_tuned.predict(test_df)\n",
        "score = round(accuracy_score(y_test, y_test_pred), 3) # Find the accuracy of y_test and predicitons, and round the result\n",
        "print(score)"
      ],
      "execution_count": 37,
      "outputs": [
        {
          "output_type": "stream",
          "name": "stdout",
          "text": [
            "0.884\n"
          ]
        }
      ]
    },
    {
      "cell_type": "code",
      "metadata": {
        "colab": {
          "base_uri": "https://localhost:8080/"
        },
        "id": "4ZztFdGbqB8P",
        "outputId": "0a41da83-1ce3-4bd8-dee6-44f37e30994d"
      },
      "source": [
        "from sklearn.metrics import accuracy_score,classification_report,roc_auc_score\n",
        "print(\"The accuracy in general is : \", accuracy_score(y_test,y_test_pred))\n",
        "print(\"\\n\")\n",
        "print(\"The classification report is as follows:\\n\", classification_report(y_test,y_test_pred))"
      ],
      "execution_count": 38,
      "outputs": [
        {
          "output_type": "stream",
          "name": "stdout",
          "text": [
            "The accuracy in general is :  0.8843174204355109\n",
            "\n",
            "\n",
            "The classification report is as follows:\n",
            "               precision    recall  f1-score   support\n",
            "\n",
            "           0       0.92      0.94      0.93      7561\n",
            "           1       0.68      0.67      0.68       351\n",
            "           2       0.75      0.67      0.71      1640\n",
            "\n",
            "    accuracy                           0.88      9552\n",
            "   macro avg       0.78      0.76      0.77      9552\n",
            "weighted avg       0.88      0.88      0.88      9552\n",
            "\n"
          ]
        }
      ]
    },
    {
      "cell_type": "code",
      "metadata": {
        "colab": {
          "base_uri": "https://localhost:8080/"
        },
        "id": "zbDG29ryqVNh",
        "outputId": "cfac17d4-8de3-440e-d05b-0c0aec7b8070"
      },
      "source": [
        "import numpy as np\n",
        "print(y_test_pred1)\n",
        "n_zeros = np.count_nonzero(y_test_pred1==2)\n",
        "# display the count of zeros\n",
        "print(n_zeros)"
      ],
      "execution_count": 39,
      "outputs": [
        {
          "output_type": "stream",
          "name": "stdout",
          "text": [
            "[0 0 0 ... 1 1 1]\n",
            "376\n"
          ]
        }
      ]
    },
    {
      "cell_type": "code",
      "metadata": {
        "id": "NCUGCiTyYi4-"
      },
      "source": [
        "# submission = pd.DataFrame({'S.No': test_df.index,'LABELS':y_test_pred1})\n",
        "# print(submission.LABELS)\n",
        "\n",
        "\n",
        "# filename = 'Submission_Abhay_Scratch_LGBM_10.csv'\n",
        "\n",
        "# submission.to_csv(filename,index=False)\n",
        "\n",
        "# print('Saved file: ' + filename)"
      ],
      "execution_count": 40,
      "outputs": []
    },
    {
      "cell_type": "code",
      "metadata": {
        "colab": {
          "base_uri": "https://localhost:8080/"
        },
        "id": "o_5RVXfnFV6G",
        "outputId": "9c3a896c-91f3-432d-aa0a-a5d81b068609"
      },
      "source": [
        "from sklearn.model_selection import GridSearchCV\n",
        "n_estimators = [25,50,100]\n",
        "max_depth = [10,20,30]\n",
        "min_samples_leaf = [2,4,6,8]\n",
        "lr = [0.01]\n",
        "\n",
        "param_grid = {\n",
        "    \"n_estimators\": n_estimators,\n",
        "    \"max_depth\": max_depth,\n",
        "    \"min_samples_leaf\": min_samples_leaf,\n",
        "    \"bootstrap\": bootstrap,\n",
        "    \"max_features\": max_features,\n",
        "    \"lr\": lr\n",
        "}\n",
        "xgb = XGBClassifier(random_state=42)\n",
        "\n",
        "xgb_model = GridSearchCV(estimator=xgb, param_grid=param_grid, cv=2, verbose=10, n_jobs=-1)\n",
        "xgb_model.fit(x_train, y_train)\n",
        "\n",
        "print(\"Using hyperparameters --> \\n\", xgb_model.best_params_)"
      ],
      "execution_count": null,
      "outputs": [
        {
          "metadata": {
            "tags": null
          },
          "name": "stdout",
          "output_type": "stream",
          "text": [
            "Fitting 2 folds for each of 1152 candidates, totalling 2304 fits\n"
          ]
        },
        {
          "metadata": {
            "tags": null
          },
          "name": "stderr",
          "output_type": "stream",
          "text": [
            "[Parallel(n_jobs=-1)]: Using backend LokyBackend with 2 concurrent workers.\n",
            "[Parallel(n_jobs=-1)]: Done   1 tasks      | elapsed:   10.7s\n",
            "[Parallel(n_jobs=-1)]: Done   4 tasks      | elapsed:   28.7s\n",
            "[Parallel(n_jobs=-1)]: Done   9 tasks      | elapsed:  1.5min\n",
            "[Parallel(n_jobs=-1)]: Done  14 tasks      | elapsed:  2.2min\n",
            "[Parallel(n_jobs=-1)]: Done  21 tasks      | elapsed:  3.6min\n",
            "[Parallel(n_jobs=-1)]: Done  28 tasks      | elapsed:  4.6min\n",
            "[Parallel(n_jobs=-1)]: Done  37 tasks      | elapsed:  6.3min\n",
            "[Parallel(n_jobs=-1)]: Done  46 tasks      | elapsed:  7.7min\n",
            "[Parallel(n_jobs=-1)]: Done  57 tasks      | elapsed:  9.7min\n",
            "[Parallel(n_jobs=-1)]: Done  68 tasks      | elapsed: 11.5min\n",
            "[Parallel(n_jobs=-1)]: Done  81 tasks      | elapsed: 13.9min\n",
            "[Parallel(n_jobs=-1)]: Done  94 tasks      | elapsed: 15.9min\n",
            "[Parallel(n_jobs=-1)]: Done 109 tasks      | elapsed: 20.2min\n",
            "[Parallel(n_jobs=-1)]: Done 124 tasks      | elapsed: 24.2min\n",
            "[Parallel(n_jobs=-1)]: Done 141 tasks      | elapsed: 29.2min\n",
            "[Parallel(n_jobs=-1)]: Done 158 tasks      | elapsed: 34.0min\n",
            "[Parallel(n_jobs=-1)]: Done 177 tasks      | elapsed: 39.6min\n",
            "[Parallel(n_jobs=-1)]: Done 196 tasks      | elapsed: 44.9min\n",
            "[Parallel(n_jobs=-1)]: Done 217 tasks      | elapsed: 52.0min\n",
            "[Parallel(n_jobs=-1)]: Done 238 tasks      | elapsed: 58.8min\n",
            "[Parallel(n_jobs=-1)]: Done 261 tasks      | elapsed: 66.4min\n",
            "[Parallel(n_jobs=-1)]: Done 284 tasks      | elapsed: 74.2min\n",
            "[Parallel(n_jobs=-1)]: Done 309 tasks      | elapsed: 79.4min\n",
            "[Parallel(n_jobs=-1)]: Done 334 tasks      | elapsed: 83.6min\n",
            "[Parallel(n_jobs=-1)]: Done 361 tasks      | elapsed: 88.7min\n",
            "[Parallel(n_jobs=-1)]: Done 388 tasks      | elapsed: 93.6min\n"
          ]
        }
      ]
    },
    {
      "cell_type": "code",
      "metadata": {
        "colab": {
          "base_uri": "https://localhost:8080/"
        },
        "id": "BeMmSFwBPKoT",
        "outputId": "d7cb2010-fd6c-4332-f3db-c469993a39cd"
      },
      "source": [
        "from sklearn.neural_network import MLPClassifier\n",
        "snn_classifier = MLPClassifier()\n",
        "snn_classifier.fit(x_train, y_train)\n",
        "snn_predictions = snn_classifier.predict(x_test)"
      ],
      "execution_count": 41,
      "outputs": [
        {
          "output_type": "stream",
          "name": "stderr",
          "text": [
            "/usr/local/lib/python3.7/dist-packages/sklearn/neural_network/_multilayer_perceptron.py:571: ConvergenceWarning: Stochastic Optimizer: Maximum iterations (200) reached and the optimization hasn't converged yet.\n",
            "  % self.max_iter, ConvergenceWarning)\n"
          ]
        }
      ]
    },
    {
      "cell_type": "code",
      "metadata": {
        "id": "rthS1wTBQBlH"
      },
      "source": [
        "dnn_classifier = MLPClassifier(hidden_layer_sizes = [100]*5)\n",
        "dnn_classifier.fit(x_train, y_train)\n",
        "dnn_predictions = dnn_classifier.predict(x_test)"
      ],
      "execution_count": 42,
      "outputs": []
    },
    {
      "cell_type": "code",
      "metadata": {
        "colab": {
          "base_uri": "https://localhost:8080/"
        },
        "id": "t9vU6OxkP_JZ",
        "outputId": "868fe51d-ea5c-4f2d-a24e-9013d829f319"
      },
      "source": [
        "print(\"The accuracy in general is : \", accuracy_score(y_test,dnn_predictions))\n",
        "print(\"\\n\")\n",
        "print(\"The classification report is as follows:\\n\", classification_report(y_test,dnn_predictions))"
      ],
      "execution_count": 44,
      "outputs": [
        {
          "output_type": "stream",
          "name": "stdout",
          "text": [
            "The accuracy in general is :  0.7915619765494137\n",
            "\n",
            "\n",
            "The classification report is as follows:\n",
            "               precision    recall  f1-score   support\n",
            "\n",
            "           0       0.79      1.00      0.88      7561\n",
            "           1       0.00      0.00      0.00       351\n",
            "           2       0.00      0.00      0.00      1640\n",
            "\n",
            "    accuracy                           0.79      9552\n",
            "   macro avg       0.26      0.33      0.29      9552\n",
            "weighted avg       0.63      0.79      0.70      9552\n",
            "\n"
          ]
        },
        {
          "output_type": "stream",
          "name": "stderr",
          "text": [
            "/usr/local/lib/python3.7/dist-packages/sklearn/metrics/_classification.py:1272: UndefinedMetricWarning: Precision and F-score are ill-defined and being set to 0.0 in labels with no predicted samples. Use `zero_division` parameter to control this behavior.\n",
            "  _warn_prf(average, modifier, msg_start, len(result))\n"
          ]
        }
      ]
    },
    {
      "cell_type": "code",
      "metadata": {
        "id": "dkuVM5bIQw8V"
      },
      "source": [
        "from sklearn.svm import SVC\n",
        "svm_classifier = SVC(decision_function_shape='ovr')\n",
        "svm_classifier.fit(x_train, y_train)\n",
        "svm_predictions_labels = svm_classifier.predict(x_test)"
      ],
      "execution_count": 45,
      "outputs": []
    },
    {
      "cell_type": "code",
      "metadata": {
        "colab": {
          "base_uri": "https://localhost:8080/"
        },
        "id": "CEKtisvQQ-cG",
        "outputId": "89a4d950-0354-4387-bd8a-3f42e2337cd7"
      },
      "source": [
        "print(\"The accuracy in general is : \", accuracy_score(y_test,svm_predictions_labels))\n",
        "print(\"\\n\")\n",
        "print(\"The classification report is as follows:\\n\", classification_report(y_test,svm_predictions_labels))"
      ],
      "execution_count": 46,
      "outputs": [
        {
          "output_type": "stream",
          "name": "stdout",
          "text": [
            "The accuracy in general is :  0.7915619765494137\n",
            "\n",
            "\n",
            "The classification report is as follows:\n",
            "               precision    recall  f1-score   support\n",
            "\n",
            "           0       0.79      1.00      0.88      7561\n",
            "           1       0.00      0.00      0.00       351\n",
            "           2       0.00      0.00      0.00      1640\n",
            "\n",
            "    accuracy                           0.79      9552\n",
            "   macro avg       0.26      0.33      0.29      9552\n",
            "weighted avg       0.63      0.79      0.70      9552\n",
            "\n"
          ]
        },
        {
          "output_type": "stream",
          "name": "stderr",
          "text": [
            "/usr/local/lib/python3.7/dist-packages/sklearn/metrics/_classification.py:1272: UndefinedMetricWarning: Precision and F-score are ill-defined and being set to 0.0 in labels with no predicted samples. Use `zero_division` parameter to control this behavior.\n",
            "  _warn_prf(average, modifier, msg_start, len(result))\n"
          ]
        }
      ]
    },
    {
      "cell_type": "code",
      "metadata": {
        "colab": {
          "base_uri": "https://localhost:8080/"
        },
        "id": "j8ND3tFFRPKo",
        "outputId": "9811ee6d-c151-444e-c1a4-3cf9ed17d237"
      },
      "source": [
        "from sklearn.naive_bayes import GaussianNB\n",
        "gnb = GaussianNB()\n",
        "gnb.fit(x_train,y_train)\n",
        "\n",
        "y_pred_test = gnb.predict(x_test)\n",
        "\n",
        "from sklearn.metrics import accuracy_score\n",
        "acc = accuracy_score(y_test,y_pred_test)\n",
        "print(acc)"
      ],
      "execution_count": 49,
      "outputs": [
        {
          "output_type": "stream",
          "name": "stdout",
          "text": [
            "0.5824958123953099\n"
          ]
        }
      ]
    },
    {
      "cell_type": "code",
      "metadata": {
        "colab": {
          "base_uri": "https://localhost:8080/"
        },
        "id": "vy1UEbSEMqWj",
        "outputId": "95ee1ee5-6bc3-4dc0-de7f-35e55d18db09"
      },
      "source": [
        "from sklearn.ensemble import VotingClassifier\n",
        "\n",
        "vc = VotingClassifier(estimators=[('ranfor',rf_classifier),('LGBM',lgbm_tuned),('XGBOOST',xgb_clf), ('KNN', knn_classifier)], \n",
        "                      voting='soft')\n",
        "vc.fit(x_train, y_train)"
      ],
      "execution_count": 51,
      "outputs": [
        {
          "output_type": "execute_result",
          "data": {
            "text/plain": [
              "VotingClassifier(estimators=[('ranfor',\n",
              "                              RandomForestClassifier(bootstrap=True,\n",
              "                                                     ccp_alpha=0.0,\n",
              "                                                     class_weight=None,\n",
              "                                                     criterion='gini',\n",
              "                                                     max_depth=None,\n",
              "                                                     max_features='auto',\n",
              "                                                     max_leaf_nodes=None,\n",
              "                                                     max_samples=None,\n",
              "                                                     min_impurity_decrease=0.0,\n",
              "                                                     min_impurity_split=None,\n",
              "                                                     min_samples_leaf=1,\n",
              "                                                     min_samples_split=2,\n",
              "                                                     min_weight_fraction_leaf=0.0,\n",
              "                                                     n_estimators=100,\n",
              "                                                     n_jobs=None,\n",
              "                                                     oob_s...\n",
              "                                            nthread=None,\n",
              "                                            objective='multi:softprob',\n",
              "                                            random_state=0, reg_alpha=0,\n",
              "                                            reg_lambda=1, scale_pos_weight=1,\n",
              "                                            seed=None, silent=None, subsample=1,\n",
              "                                            verbosity=1)),\n",
              "                             ('KNN',\n",
              "                              KNeighborsClassifier(algorithm='auto',\n",
              "                                                   leaf_size=30,\n",
              "                                                   metric='minkowski',\n",
              "                                                   metric_params=None,\n",
              "                                                   n_jobs=None, n_neighbors=5,\n",
              "                                                   p=2, weights='uniform'))],\n",
              "                 flatten_transform=True, n_jobs=None, voting='soft',\n",
              "                 weights=None)"
            ]
          },
          "metadata": {},
          "execution_count": 51
        }
      ]
    },
    {
      "cell_type": "code",
      "metadata": {
        "colab": {
          "base_uri": "https://localhost:8080/"
        },
        "id": "9ZHMqoBROLy9",
        "outputId": "35d5249a-0d48-4940-d4b5-5cff48428497"
      },
      "source": [
        "y_pred_vc = vc.predict(x_test)\n",
        "y_pred_vc_1 = vc.predict(test_df)\n",
        "print('Confusion Matrix')\n",
        "print(confusion_matrix(y_test, y_pred_vc))\n",
        "print('\\n')\n",
        "print('Accuracy')\n",
        "print(accuracy_score(y_test, y_pred_vc))"
      ],
      "execution_count": 52,
      "outputs": [
        {
          "output_type": "stream",
          "name": "stdout",
          "text": [
            "Confusion Matrix\n",
            "[[7055   86  420]\n",
            " [ 109  235    7]\n",
            " [ 554   17 1069]]\n",
            "\n",
            "\n",
            "Accuracy\n",
            "0.8751046901172529\n"
          ]
        }
      ]
    },
    {
      "cell_type": "code",
      "metadata": {
        "id": "1DUlDInpOjBA"
      },
      "source": [
        "# submission = pd.DataFrame({'S.No': test_df.index,'LABELS':y_pred_vc_1})\n",
        "# print(submission.LABELS)\n",
        "\n",
        "\n",
        "# filename = 'Submission_Abhay_VotingClassifier_10.csv'\n",
        "\n",
        "# submission.to_csv(filename,index=False)\n",
        "\n",
        "# print('Saved file: ' + filename)"
      ],
      "execution_count": 54,
      "outputs": []
    },
    {
      "cell_type": "code",
      "metadata": {
        "id": "SpRRtLD5ZFbw"
      },
      "source": [
        ""
      ],
      "execution_count": null,
      "outputs": []
    }
  ]
}